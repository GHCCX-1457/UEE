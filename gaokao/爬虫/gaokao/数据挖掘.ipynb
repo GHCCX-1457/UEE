{
 "cells": [
  {
   "cell_type": "code",
   "execution_count": 1,
   "outputs": [
    {
     "name": "stdout",
     "output_type": "stream",
     "text": [
      "[{'本科批': 902}, {'本科提前批B段': 8}, {'专科批': 617}, {'专科提前批': 12}]\n"
     ]
    }
   ],
   "source": [
    "#打开csv\n",
    "import csv\n",
    "picis = []\n",
    "with open('./finaldate/date1.csv','r',encoding='utf-8') as f:\n",
    "    reader = csv.reader(f)\n",
    "    for row in reader:\n",
    "        picis.append(row[-2])\n",
    "setpicis = set(picis[1:])\n",
    "#根据setpicis获取在picis中出现的次数\n",
    "piciscount = []\n",
    "for i in setpicis:\n",
    "    pics = {}\n",
    "    pics[i] = picis.count(i)\n",
    "    piciscount.append(pics)\n",
    "print(piciscount)\n",
    "\n"
   ],
   "metadata": {
    "collapsed": false
   }
  },
  {
   "cell_type": "code",
   "execution_count": 9,
   "outputs": [],
   "source": [
    "\n",
    "#写入csv\n",
    "import csv\n",
    "with open('./finaldate/pici_count.csv','w',encoding='utf-8',newline='') as f:\n",
    "    writer = csv.writer(f)\n",
    "    writer.writerow(['picis','count'])\n",
    "    for i in piciscount:\n",
    "        for key,value in i.items():\n",
    "            writer.writerow([key,value])"
   ],
   "metadata": {
    "collapsed": false
   }
  }
 ],
 "metadata": {
  "kernelspec": {
   "display_name": "Python 3",
   "language": "python",
   "name": "python3"
  },
  "language_info": {
   "codemirror_mode": {
    "name": "ipython",
    "version": 2
   },
   "file_extension": ".py",
   "mimetype": "text/x-python",
   "name": "python",
   "nbconvert_exporter": "python",
   "pygments_lexer": "ipython2",
   "version": "2.7.6"
  }
 },
 "nbformat": 4,
 "nbformat_minor": 0
}
